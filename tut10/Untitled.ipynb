{
 "cells": [
  {
   "cell_type": "code",
   "execution_count": 1,
   "id": "caa611bc-963e-435a-b8cc-a949a09239fd",
   "metadata": {},
   "outputs": [],
   "source": [
    "import numpy as np"
   ]
  },
  {
   "cell_type": "code",
   "execution_count": 4,
   "id": "2b737b0a-4a21-4228-bd5d-c51ba59c60e0",
   "metadata": {},
   "outputs": [],
   "source": [
    "revenue = np.array([[200, 220, 250],\n",
    "                    [68, 79, 105],\n",
    "                    [110, 140, 180],\n",
    "                    [80, 85, 90]])"
   ]
  },
  {
   "cell_type": "code",
   "execution_count": 5,
   "id": "830096ba-dd07-4818-b70b-bea1422db0f6",
   "metadata": {},
   "outputs": [],
   "source": [
    "rev_inr = revenue*75"
   ]
  },
  {
   "cell_type": "code",
   "execution_count": 6,
   "id": "fa5811eb-46d2-4bec-9269-c07cd3cd3aae",
   "metadata": {},
   "outputs": [
    {
     "data": {
      "text/plain": [
       "array([[15000, 16500, 18750],\n",
       "       [ 5100,  5925,  7875],\n",
       "       [ 8250, 10500, 13500],\n",
       "       [ 6000,  6375,  6750]])"
      ]
     },
     "execution_count": 6,
     "metadata": {},
     "output_type": "execute_result"
    }
   ],
   "source": [
    "rev_inr"
   ]
  },
  {
   "cell_type": "code",
   "execution_count": 9,
   "id": "4c47f908-a48f-4367-934c-1c2574ee4a31",
   "metadata": {},
   "outputs": [],
   "source": [
    "flower_price = np.array([[50,60,25],\n",
    "                  [10,13,5],\n",
    "                  [40,70,52]])"
   ]
  },
  {
   "cell_type": "code",
   "execution_count": 14,
   "id": "612a0193-ef1e-4414-acc3-3b990861d3b0",
   "metadata": {},
   "outputs": [],
   "source": [
    "unit = np.array([20,30,15])"
   ]
  },
  {
   "cell_type": "code",
   "execution_count": 17,
   "id": "f3a21ca7-ed9a-457f-a0e4-ea5d5312d45d",
   "metadata": {},
   "outputs": [],
   "source": [
    "total=np.dot(unit,flower_price)"
   ]
  },
  {
   "cell_type": "code",
   "execution_count": 18,
   "id": "c9e17e5f-dffd-4e0d-8eb3-c43573f0d6ed",
   "metadata": {},
   "outputs": [
    {
     "data": {
      "text/plain": [
       "array([1900, 2640, 1430])"
      ]
     },
     "execution_count": 18,
     "metadata": {},
     "output_type": "execute_result"
    }
   ],
   "source": [
    "total"
   ]
  },
  {
   "cell_type": "code",
   "execution_count": null,
   "id": "14e9fbac-500a-4c1f-844f-ae0aa33f6d7a",
   "metadata": {},
   "outputs": [],
   "source": []
  }
 ],
 "metadata": {
  "kernelspec": {
   "display_name": "Python 3 (ipykernel)",
   "language": "python",
   "name": "python3"
  },
  "language_info": {
   "codemirror_mode": {
    "name": "ipython",
    "version": 3
   },
   "file_extension": ".py",
   "mimetype": "text/x-python",
   "name": "python",
   "nbconvert_exporter": "python",
   "pygments_lexer": "ipython3",
   "version": "3.12.4"
  }
 },
 "nbformat": 4,
 "nbformat_minor": 5
}
