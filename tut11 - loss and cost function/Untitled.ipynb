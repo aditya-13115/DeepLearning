{
 "cells": [
  {
   "cell_type": "code",
   "execution_count": 18,
   "id": "c3cfb82c-f92d-455a-b5c7-90b82e1407e8",
   "metadata": {},
   "outputs": [],
   "source": [
    "import numpy as np"
   ]
  },
  {
   "cell_type": "code",
   "execution_count": 19,
   "id": "46a82d6c-f828-450e-bd7d-3ad934661900",
   "metadata": {},
   "outputs": [],
   "source": [
    "y_pred = np.array([1,1,0,0,1])\n",
    "y_true = np.array([0.30,0.7,1,0,0.5])"
   ]
  },
  {
   "cell_type": "markdown",
   "id": "f8ed9082-3702-45c9-a983-9a6c79772945",
   "metadata": {},
   "source": [
    "# Implementing Mean Abs Error"
   ]
  },
  {
   "cell_type": "code",
   "execution_count": 20,
   "id": "b64dd9c2-c1f6-4c78-9df3-76d9b9c15942",
   "metadata": {},
   "outputs": [],
   "source": [
    "def mae(y_pred,y_true):\n",
    "    total=0\n",
    "    for yp,yt in zip(y_pred,y_true):\n",
    "        total+=abs(yp-yt)\n",
    "    print(\"total loss function\",total)\n",
    "    mae = total/len(y_pred)\n",
    "    print(\"mean abs error=\",mae)\n",
    "    return mae"
   ]
  },
  {
   "cell_type": "code",
   "execution_count": 21,
   "id": "0d773d75-bbb1-48fe-a10f-18289347275b",
   "metadata": {},
   "outputs": [
    {
     "name": "stdout",
     "output_type": "stream",
     "text": [
      "total loss function 2.5\n",
      "mean abs error= 0.5\n"
     ]
    },
    {
     "data": {
      "text/plain": [
       "0.5"
      ]
     },
     "execution_count": 21,
     "metadata": {},
     "output_type": "execute_result"
    }
   ],
   "source": [
    "mae(y_pred, y_true)\n"
   ]
  },
  {
   "cell_type": "markdown",
   "id": "f1c3c22c-bda0-44bd-8afd-d9049360f211",
   "metadata": {},
   "source": [
    "# Implement same thing using numpy in much easier way"
   ]
  },
  {
   "cell_type": "code",
   "execution_count": 24,
   "id": "c72dbe90-9b4c-4917-afb4-353461278947",
   "metadata": {},
   "outputs": [],
   "source": [
    "def mae_np(y_pred, y_true):\n",
    "    return np.mean(np.abs(y_pred-y_true))"
   ]
  },
  {
   "cell_type": "code",
   "execution_count": 25,
   "id": "aef4477e-28f6-490f-82e9-fcc827c5040a",
   "metadata": {},
   "outputs": [
    {
     "data": {
      "text/plain": [
       "0.5"
      ]
     },
     "execution_count": 25,
     "metadata": {},
     "output_type": "execute_result"
    }
   ],
   "source": [
    "mae_np(y_pred,y_true)"
   ]
  },
  {
   "cell_type": "code",
   "execution_count": null,
   "id": "03182d85-d12f-4927-a27a-cf3dc6073491",
   "metadata": {},
   "outputs": [],
   "source": [
    "\n"
   ]
  },
  {
   "cell_type": "markdown",
   "id": "52893db6-30a6-4a3c-9183-f60321bf2fe7",
   "metadata": {},
   "source": [
    "# Implement min sq error"
   ]
  },
  {
   "cell_type": "code",
   "execution_count": 40,
   "id": "00b0f645-997c-4580-8ba2-a1b7afe5fa8d",
   "metadata": {},
   "outputs": [],
   "source": [
    "def mse(y_pred,y_true):\n",
    "    tot=0\n",
    "    for y_p , y_t in zip(y_pred,y_true):\n",
    "        tot+=(y_p-y_t)**2\n",
    "    print(\"total error : \",tot)\n",
    "    cost=tot/len(y_pred)\n",
    "    return cost"
   ]
  },
  {
   "cell_type": "code",
   "execution_count": 41,
   "id": "8a730180-1c5a-4289-b4a2-7a996fc54c64",
   "metadata": {},
   "outputs": [
    {
     "name": "stdout",
     "output_type": "stream",
     "text": [
      "total error :  1.83\n"
     ]
    },
    {
     "data": {
      "text/plain": [
       "0.366"
      ]
     },
     "execution_count": 41,
     "metadata": {},
     "output_type": "execute_result"
    }
   ],
   "source": [
    "mse(y_pred,y_true)"
   ]
  },
  {
   "cell_type": "code",
   "execution_count": null,
   "id": "97dfee2f-a221-415c-97b9-e2f1d4b1c2c4",
   "metadata": {},
   "outputs": [],
   "source": []
  }
 ],
 "metadata": {
  "kernelspec": {
   "display_name": "Python 3 (ipykernel)",
   "language": "python",
   "name": "python3"
  },
  "language_info": {
   "codemirror_mode": {
    "name": "ipython",
    "version": 3
   },
   "file_extension": ".py",
   "mimetype": "text/x-python",
   "name": "python",
   "nbconvert_exporter": "python",
   "pygments_lexer": "ipython3",
   "version": "3.12.4"
  }
 },
 "nbformat": 4,
 "nbformat_minor": 5
}
